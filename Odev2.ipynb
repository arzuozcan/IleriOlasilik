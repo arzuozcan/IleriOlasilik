{
  "nbformat": 4,
  "nbformat_minor": 0,
  "metadata": {
    "colab": {
      "provenance": [],
      "authorship_tag": "ABX9TyPlIVmP5TvCKMjdT9xD+k1Q",
      "include_colab_link": true
    },
    "kernelspec": {
      "name": "python3",
      "display_name": "Python 3"
    },
    "language_info": {
      "name": "python"
    }
  },
  "cells": [
    {
      "cell_type": "markdown",
      "metadata": {
        "id": "view-in-github",
        "colab_type": "text"
      },
      "source": [
        "<a href=\"https://colab.research.google.com/github/arzuozcan/IleriOlasilik/blob/main/Odev2.ipynb\" target=\"_parent\"><img src=\"https://colab.research.google.com/assets/colab-badge.svg\" alt=\"Open In Colab\"/></a>"
      ]
    },
    {
      "cell_type": "markdown",
      "source": [
        "Ad Soyad: Arzu ÖZCAN\n",
        "Okul Nu: 225131014 \n",
        "\n",
        "Ödev 2: Permutasyon,Kombinasyon,olasılık Ödevi"
      ],
      "metadata": {
        "id": "DuAo-zLOLXAn"
      }
    },
    {
      "cell_type": "markdown",
      "source": [
        "1. Soru\n",
        "\n",
        "Bir elektronik tartı, her ölçümde üzerine konulan ağırlığı %20 olasılıkla gerçek ağırlığından 1 kg fazla, %30 olasılıkla gerçek ağırlığından 1 kg az ve %50 olasılıkla gerçek ağırlığını ölçmektedir. Gerçek ağırlıkları sırasıyla 80 ve 81 kg olan Ali ve Mehmet bu tartıda birer kere tartılacaktır. Buna göre ölçüm sonunda Ali ve Mehmet'in ağırlıklarının birbirine eşit çıkma olasılığı yüzde kaçtır?\n",
        "\n",
        "\n",
        "çözüm: Ali ve mehmet in gerçek agırlıkları ile  tartıdaki olasılıkları tek tek hesaplayalım.\n",
        " ALİ nin gercek kilosu 80 dir.\n",
        "\n",
        "  81kg çıkma durumu yüzde 20= P_ALİ*20\n",
        "\n",
        "  80kg cıkma durumu yüzde 50= P_ALİ*50\n",
        "\n",
        "  79kg cıkma durumu yüzde 30 = P_ALİ *30\n",
        "\n",
        " Mehmet in gercek kilosu 81 dir.\n",
        "\n",
        "  82kg çıkma durumu yüzde 20= P_MEHMET*20\n",
        "\n",
        "  81kg çıkma durumu yüzde 50=P_MEHMET*50\n",
        "\n",
        "  80 kg çıkma durumu yüzde 30 = P_MEHMET*30\n",
        "\n",
        "  AGIRLIKLARIN TARTIRDA EŞİT ÇIKMA DURUMU ANCAK 2 DURUM GERÇEKLESİNCE OLUR.\n",
        "\n",
        "  1.DURUM İSE : ALİ KENDİ KİLOSUNDA VE MEHMET  KENDİ KİLOSUDAN BİR KİLO AZ CIKARSA OLUR.\n",
        "\n",
        "  2.DURUM İSE :MEHMET KENDİ KİLOSUNDA VE ALİ KENDİ KİLOSUNDAN FAZLA GELİRSE OLUR.\n",
        "  \n",
        "MEHMET VE ALİ 'NİN AGIRLIKLARINI ESİT CIKMA OLASILIGINI BULMAK İÇİN:  BU İKİ DURUM AYRI AYRI HESAPLANIR TOPLANIR.\n",
        "\n",
        "\n",
        "\n",
        "\n",
        "\n",
        "  \n",
        "\n",
        "\n",
        "\n"
      ],
      "metadata": {
        "id": "kSteRBPDLyFc"
      }
    },
    {
      "cell_type": "code",
      "source": [
        "# Ali ve Mehmet'in gerçek ağırlıkları\n",
        "ali_real_weight = 80\n",
        "mehmet_real_weight = 81\n",
        "\n",
        "# Ali'nin ölçülebileceği ağırlıklar\n",
        "P_Ali_81 = 0.2  # 81 kg ölçülme olasılığı\n",
        "P_Ali_80 = 0.5  # 80 kg ölçülme olasılığı(Gerçek ağırlığı)\n",
        "P_Ali_79 = 0.3  # 79 kg ölçülme olasılığı\n",
        "\n",
        "P_Mehmet_82 = 0.2  #  82 kg ölçülme olasılığı\n",
        "P_Mehmet_81 = 0.5  #  81 kg ölçülme olasılığı(Gerçek ağırl\n",
        "P_Mehmet_80 = 0.3  #  80 kg ölçülme olasılığı\n",
        "\n",
        "# Ali ve Mehmet 81 ve 80 kg çlçümlerinde ağırlıkları eşit oluyor. Buna göre;\n",
        "P_equal = (P_Ali_80 * P_Mehmet_80) + (P_Ali_81 * P_Mehmet_81) \n",
        "\n",
        "# Print the result as a percentage\n",
        "print(\"Ali ve Mehmet'in eşit ağırlıkta çıkma olasılığı {:.2%}\".format(P_equal))"
      ],
      "metadata": {
        "colab": {
          "base_uri": "https://localhost:8080/"
        },
        "id": "xZzpewzoMRrI",
        "outputId": "71793538-2378-4130-e73b-1eb9d71b7fe3"
      },
      "execution_count": null,
      "outputs": [
        {
          "output_type": "stream",
          "name": "stdout",
          "text": [
            "Ali ve Mehmet'in eşit ağırlıkta çıkma olasılığı 25.00%\n"
          ]
        }
      ]
    },
    {
      "cell_type": "markdown",
      "source": [
        "2. Soru\n",
        "\n",
        "Bir öğretmen, yapacağı final sınavını anlattığı 10 konudan rastgele 2'sini seçerek hazırlayacağını sınıfa söylemiştir. Bu sınıftaki öğrencilerden biri olan Figen, yeterli zamanı olmadığından bu 10 konudan 7'sine çalışmıştır. Figen, sınava giremeden önce arkadaşına en büyük korkusunun sınavdaki tüm soruların çalışmadığı yerlerden gelmesi olduğunu söylemiştir. Buna göre, Figen'in korktuğu başına gelmesi olasılığı yüzde kaçtır?\n",
        "\n",
        "ÇÖZÜM:\n",
        "\n",
        "       FİGEN'İN ÇALIŞTIĞI KONU SAYISI: 7\n",
        "\n",
        "       TOPLAM KONU SAYISI : 10 \n",
        "      \n",
        "       SINAVDA ÇIKACAK SORU SAYISI: 2\n",
        "\n",
        "       FİGEN'İN ÇALISMADIĞI KONU SAYISI : 3 TUR.\n",
        "       \n",
        "       FİGEN'İN KORKTUGU DURUM  :cmb(10,3)\n",
        "\n",
        "       SINAVDA ÇIKAN SORULARIN DURUMU : cmb( 10,2)\n",
        "        \n",
        "        FİGENİN KORKTUGU DURUMUN GELME OLASILIGI : \n",
        "\n",
        "        FİGENİN KORKTUGU DURUM / SINAVDA CIKAN SORULARIN DURUMU İLE HESAPLANIR.\n",
        "\n",
        "\n",
        "\n",
        "\n",
        "\n",
        "\n",
        "\n",
        "\n",
        "\n",
        "\n",
        "\n",
        "\n",
        "       \n"
      ],
      "metadata": {
        "id": "aZHteGjjMbIL"
      }
    },
    {
      "cell_type": "code",
      "source": [
        "from math import comb\n",
        "# Figen'in çalıştığı konular\n",
        "calisilan_konular = 7\n",
        "\n",
        "# Toplam konu sayısı\n",
        "toplam_konu = 10\n",
        "\n",
        "# Figen'in sınavda çalışmadığı konuların sayısı\n",
        "calisilmayan_konular = toplam_konu - calisilan_konular\n",
        "\n",
        "# Sınavda sorulan konu sayısı\n",
        "konu_sayisi = 2\n",
        "\n",
        "# Figen'in korktuğu durum, çalışmadığı tüm konuların sorulması\n",
        "p_calisilmayan_konular = comb(calisilmayan_konular, konu_sayisi)\n",
        "p_toplam_konular=comb(toplam_konu, konu_sayisi)\n",
        "\n",
        "p_korku=p_calisilmayan_konular/p_toplam_konular\n",
        "\n",
        "# Sonuç\n",
        "print(\"Figen'in korktuğu başına gelme olasılığı: {:.2%}\".format(p_korku))"
      ],
      "metadata": {
        "id": "PMJhSxZHM_-R",
        "outputId": "ad3e1580-c415-4088-9023-a32bd8d76ba7",
        "colab": {
          "base_uri": "https://localhost:8080/"
        }
      },
      "execution_count": null,
      "outputs": [
        {
          "output_type": "stream",
          "name": "stdout",
          "text": [
            "Figen'in korktuğu başına gelme olasılığı: 6.67%\n"
          ]
        }
      ]
    },
    {
      "cell_type": "code",
      "source": [],
      "metadata": {
        "id": "67CdMXf2Ow2J"
      },
      "execution_count": null,
      "outputs": []
    }
  ]
}