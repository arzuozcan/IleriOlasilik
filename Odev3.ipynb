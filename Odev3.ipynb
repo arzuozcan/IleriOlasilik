{
  "nbformat": 4,
  "nbformat_minor": 0,
  "metadata": {
    "colab": {
      "provenance": [],
      "authorship_tag": "ABX9TyOyl4+Ynhtee9KxWXGkZzm0",
      "include_colab_link": true
    },
    "kernelspec": {
      "name": "python3",
      "display_name": "Python 3"
    },
    "language_info": {
      "name": "python"
    }
  },
  "cells": [
    {
      "cell_type": "markdown",
      "metadata": {
        "id": "view-in-github",
        "colab_type": "text"
      },
      "source": [
        "<a href=\"https://colab.research.google.com/github/arzuozcan/IleriOlasilik/blob/main/Odev3.ipynb\" target=\"_parent\"><img src=\"https://colab.research.google.com/assets/colab-badge.svg\" alt=\"Open In Colab\"/></a>"
      ]
    },
    {
      "cell_type": "markdown",
      "source": [
        "1) Bir kutuda 5 arızalı,10 kısmi arızalı ve 25 tane sağlam transistör vardır.Bu kutudan rastgele bir transistör secilince ve seçilen yerine bırakıldığında seçilmiş olan hemen bozulmadıgında,bunun saglam cıkma ihtimali nedir?\n",
        "\n",
        "çözüm:\n",
        " secilmiş olan hemen bozulmadığına göre,bunun sağlam olması gerekir.yani çalışan transistörlerin saglam cıkma ihtimailini soruyor bize.\n",
        "\n",
        "  P(saglam/ çalışıyor) = P(saglam çalısıyor) / P( Çalısıyor) \n",
        "  P(Saglam çalışıyor ) = 25 /40\n",
        "  P( çalısıyor) = 35 / 40 olacaktır. bu veriler yerine konulursa ;\n",
        "  sonuç ; 5/ 7 olur\n",
        "\n",
        " \n",
        "                        \n",
        "\n"
      ],
      "metadata": {
        "id": "H3l3FEbJ4nhu"
      }
    },
    {
      "cell_type": "code",
      "source": [
        "saglam_transistor = 25 # saglam transistör sayısı\n",
        "kismi_arızali_transistor = 10 # arızalı transistör sayısı\n",
        "arızali_transistor = 5 # arızalı tansistör sayısı\n",
        "toplam_transistor=40 # toplam transistor sayısı\n",
        "\n",
        "#calisan transistor sayisi\n",
        "calisan_transistor=saglam_transistor+kismi_arızali_transistor\n",
        "\n",
        "p_calisan_transistor=calisan_transistor/toplam_transistor\n",
        "\n",
        "p_saglam_olup_calisiyor=saglam_transistor/toplam_transistor\n",
        "\n",
        "p_calisiyor=calisan_transistor/toplam_transistor\n",
        "\n",
        "p_saglam_calisiyor=p_saglam_olup_calisiyor/p_calisiyor\n",
        "\n",
        "# Print the result as a percentage\n",
        "print(\"Çalışan transistörlerin saglam cıkma ihtimailini  {:.2%}\".format(p_saglam_calisiyor))\n"
      ],
      "metadata": {
        "id": "OX47zrnz7v_j",
        "colab": {
          "base_uri": "https://localhost:8080/"
        },
        "outputId": "8f8c162d-2abd-42aa-b8cb-d6c4d7a2d24a"
      },
      "execution_count": 7,
      "outputs": [
        {
          "output_type": "stream",
          "name": "stdout",
          "text": [
            "Çalışan transistörlerin saglam cıkma ihtimailini  71.43%\n"
          ]
        }
      ]
    },
    {
      "cell_type": "markdown",
      "source": [
        "2) Bir yarışmada yarışmacılara 2 jüri üyesi dörder soru yönetiyor.yarışmacı bir üst tura geçmek için her bir jüri üyesinin en az üç sorusunu doğru cevaplamak zorundadır.Sorulan tüm sorulara cevap verebilen bir yarışmacı toplam 6 soru dogru cevapladıgına göre bir üst tura geçme olasılıgı nedir?"
      ],
      "metadata": {
        "id": "EnyGCSlH__sS"
      }
    },
    {
      "cell_type": "code",
      "source": [],
      "metadata": {
        "id": "9UsjoNs-J7cJ"
      },
      "execution_count": 5,
      "outputs": []
    }
  ]
}