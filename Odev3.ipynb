{
  "nbformat": 4,
  "nbformat_minor": 0,
  "metadata": {
    "colab": {
      "provenance": [],
      "authorship_tag": "ABX9TyPao/qWV2ERUsF4sSDRc/LR",
      "include_colab_link": true
    },
    "kernelspec": {
      "name": "python3",
      "display_name": "Python 3"
    },
    "language_info": {
      "name": "python"
    }
  },
  "cells": [
    {
      "cell_type": "markdown",
      "metadata": {
        "id": "view-in-github",
        "colab_type": "text"
      },
      "source": [
        "<a href=\"https://colab.research.google.com/github/arzuozcan/IleriOlasilik/blob/main/Odev3.ipynb\" target=\"_parent\"><img src=\"https://colab.research.google.com/assets/colab-badge.svg\" alt=\"Open In Colab\"/></a>"
      ]
    },
    {
      "cell_type": "markdown",
      "source": [
        "1) Bir kutuda 5 arızalı,10 kısmi arızalı ve 25 tane sağlam transistör vardır.Bu kutudan rastgele bir transistör secilince ve seçilen yerine bırakıldığında seçilmiş olan hemen bozulmadıgında,bunun saglam cıkma ihtimali nedir?\n",
        "\n",
        "çözüm:\n",
        " secilmiş olan hemen bozulmadığına göre,bunun sağlam olması gerekir.yani çalışan transistörlerin saglam cıkma ihtimailini soruyor bize.\n",
        "\n",
        "  P(saglam/ çalışıyor) = P(saglam çalısıyor) / P( Çalısıyor) \n",
        "  P(Saglam çalışıyor ) = 25 /40\n",
        "  P( çalısıyor) = 35 / 40 olacaktır. bu veriler yerine konulursa ;\n",
        "  sonuç ; 5/ 7 olur\n",
        "\n",
        " \n",
        "                        \n",
        "\n"
      ],
      "metadata": {
        "id": "H3l3FEbJ4nhu"
      }
    },
    {
      "cell_type": "code",
      "source": [
        "P_saglam = 25 # saglam transistör sayısı\n",
        "p_kismi_arızali = 10 # arızalı transistör sayısı\n",
        "p_arızali = 5 # arızalı tansistör sayısı\n"
      ],
      "metadata": {
        "id": "OX47zrnz7v_j"
      },
      "execution_count": null,
      "outputs": []
    },
    {
      "cell_type": "markdown",
      "source": [
        "2) Bir yarışmada yarışmacılara 2 jüri üyesi dörder soru yönetiyor.yarışmacı bir üst tura geçmek için her bir jüri üyesinin en az üç sorusunu doğru cevaplamak zorundadır.Sorulan tüm sorulara cevap verebilen bir yarışmacı toplam 6 soru dogru cevapladıgına göre bir üst tura geçme olasılıgı nedir?"
      ],
      "metadata": {
        "id": "EnyGCSlH__sS"
      }
    },
    {
      "cell_type": "code",
      "source": [],
      "metadata": {
        "id": "9UsjoNs-J7cJ"
      },
      "execution_count": null,
      "outputs": []
    }
  ]
}