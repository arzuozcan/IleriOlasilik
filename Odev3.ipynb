{
  "nbformat": 4,
  "nbformat_minor": 0,
  "metadata": {
    "colab": {
      "provenance": [],
      "authorship_tag": "ABX9TyOc/ib+Dd/GS3Xdid4to6GI",
      "include_colab_link": true
    },
    "kernelspec": {
      "name": "python3",
      "display_name": "Python 3"
    },
    "language_info": {
      "name": "python"
    }
  },
  "cells": [
    {
      "cell_type": "markdown",
      "metadata": {
        "id": "view-in-github",
        "colab_type": "text"
      },
      "source": [
        "<a href=\"https://colab.research.google.com/github/arzuozcan/IleriOlasilik/blob/main/Odev3.ipynb\" target=\"_parent\"><img src=\"https://colab.research.google.com/assets/colab-badge.svg\" alt=\"Open In Colab\"/></a>"
      ]
    },
    {
      "cell_type": "markdown",
      "source": [],
      "metadata": {
        "id": "P8x174GQ_5Th"
      }
    },
    {
      "cell_type": "markdown",
      "source": [
        "1) Bir yarışmada yarışmacılara 2 jüri üyesi dörder soru yönetiyor.yarışmacı bir üst tura geçmek için her bir jüri üyesinin en az üç sorusunu doğru cevaplamak zorundadır.Sorulan tüm sorulara cevap verebilen bir yarışmacı toplam 6 soru dogru cevapladıgına göre bir üst tura geçme olasılıgı nedir?"
      ],
      "metadata": {
        "id": "EnyGCSlH__sS"
      }
    },
    {
      "cell_type": "code",
      "source": [],
      "metadata": {
        "id": "J2CWEPxgBCIB"
      },
      "execution_count": null,
      "outputs": []
    }
  ]
}