{
  "nbformat": 4,
  "nbformat_minor": 0,
  "metadata": {
    "colab": {
      "provenance": [],
      "authorship_tag": "ABX9TyN9xvdjHEKuxugrBtjuumSN",
      "include_colab_link": true
    },
    "kernelspec": {
      "name": "python3",
      "display_name": "Python 3"
    },
    "language_info": {
      "name": "python"
    }
  },
  "cells": [
    {
      "cell_type": "markdown",
      "metadata": {
        "id": "view-in-github",
        "colab_type": "text"
      },
      "source": [
        "<a href=\"https://colab.research.google.com/github/arzuozcan/IleriOlasilik/blob/main/Odev1.ipynb\" target=\"_parent\"><img src=\"https://colab.research.google.com/assets/colab-badge.svg\" alt=\"Open In Colab\"/></a>"
      ]
    },
    {
      "cell_type": "markdown",
      "source": [
        "Ad Soyad: Arzu ÖZCAN\n",
        "Okul Nu: 225131014 \n",
        "\n",
        "Ödev 1: Permutasyon ve Kombinasyon Ödevi"
      ],
      "metadata": {
        "id": "DuAo-zLOLXAn"
      }
    },
    {
      "cell_type": "markdown",
      "source": [
        "1. Soru(Permütasyon sorusu)\n",
        "\n",
        "Telefonuna beş haneli bir tuş şifresi koymak isteyen bir kişi sıfır hariç diğer rakamları kullanacaktır.\n",
        "\n",
        "Tuş şifresinin dört rakamı aynı olduğuna göre, kaç farklı şekilde oluşturulabilir?\n",
        "\n",
        "ÇÖZÜM:\n",
        "\n",
        "A ile B birbirinden farklı rakamlar olmak üzere tuş şifresi, AAAAB gibi olacaktır.\n",
        "\n",
        "Bu şekilde yazılabilecek şifre sayısı 5!/4!=5 tane olur.\n",
        "\n",
        "A ile B sıfır olamayacağından 9 farklı değer alır. Birbirinden farklı olarak A ile B rakamları\n",
        "\n",
        "p(9,2)=72 farklı şekilde seçilebilir.\n",
        "\n",
        "Buna göre, 72*5=360 farklı şekilde şifre oluşturulur.\n",
        "\n",
        "\n",
        "\n",
        "\n",
        "  \n",
        "\n",
        "\n",
        "\n"
      ],
      "metadata": {
        "id": "kSteRBPDLyFc"
      }
    },
    {
      "cell_type": "code",
      "source": [
        "#rekürsif olarak faktöriyel hesabı\n",
        "def faktoriyel(i):\n",
        "    \n",
        "    if i==1:       \n",
        "        return 1\n",
        "    \n",
        "    else: \n",
        "        return i * faktoriyel(i-1)\n",
        "\n",
        "def permutasyon(m,n):\n",
        "    \n",
        "    k = 0\n",
        "    \n",
        "    if n>m:        \n",
        "        k = l\n",
        "        \n",
        "    else:      \n",
        "        k = faktoriyel(m)/faktoriyel(m-n)\n",
        "        return k\n",
        "\n",
        "\n",
        "#A ve B birbirinden farklı rakamlar olmak üzere tuş şifresi AAAAB gibi olacaktır.\n",
        "#Bu şekilde yazılabilecek şifre sayısı 5 tane olur.\n",
        "sifre_sayisi=faktoriyel(5)/faktoriyel(4)\n",
        "\n",
        "#A ile B sıfır olamayacağından 9 farklı değer alır.\n",
        "#Birbirinden farklı olarak A ile B rakamları P(9,2) farklı şekilde seçilebilir\n",
        "AB_p=permutasyon(9,2)\n",
        "\n",
        "#Buna göre, A ile B rakamlarının farklı seçilmesi ve yazılabilecek şifre sayısının\n",
        "#çarpımı bize oluşturulabilecek şifre sayısını verir.\n",
        "\n",
        "sonuc=sifre_sayisi*AB_p\n",
        "\n",
        "# Sonuç\n",
        "print(\"Farklı şekilde şifre oluşturma sayısı \",sonuc)\n",
        "\n",
        "\n"
      ],
      "metadata": {
        "id": "xZzpewzoMRrI",
        "colab": {
          "base_uri": "https://localhost:8080/"
        },
        "outputId": "aaecc654-c499-4782-8b41-cb1686057cc1"
      },
      "execution_count": null,
      "outputs": [
        {
          "output_type": "stream",
          "name": "stdout",
          "text": [
            "Farklı şekilde şifre oluşturma sayısı  360.0\n"
          ]
        }
      ]
    },
    {
      "cell_type": "code",
      "source": [],
      "metadata": {
        "id": "A5E1mA97lFds"
      },
      "execution_count": null,
      "outputs": []
    },
    {
      "cell_type": "markdown",
      "source": [
        "2. Soru\n",
        "\n",
        "simge,biri kız digeri erkek olan ikiz bebeklerine birbirinden farklı birer isim verecektir.Bunun için yalnızca erkek bebeklerine konulacak isimlerden 6 tane, hem erkek hemde kız bebeklere konulabilecek isimlerden ise 5 tane belirlemiştir.\n",
        "Buna göre, Simge bebeklerin isimlerini kaç farklı sekilde seçebilir?\n",
        "ÇÖZÜM:\n",
        "\n",
        "     önce kız bebek için seçebilecegi isimlere bakalım. kız bebek seçecegi isimler 5 tanedir.( erkek için isimler kullanılmayacagı için).bu 5 isimden bir tanesini kız bebek için sececektir. bu da matematiksel olarak c(5,1) dir\n",
        "     erkek bebek için seçecegi isimlere bakalım.erkek için, hem erkek bebeklere konulacak isimlerden secebilir hemde kız ve erkek bebek icin konulacak isimlerden secebilir. ancak hem kız hem erkek için secilecek isimlerden bir tanesini kullandıgı için toplam isim sayısı=  6 + 4 =10 olur. bu 10 isimden birini erkek bebegi icin kullanabilir. bu da matematiksel olarak c(10,1) dir\n",
        "     bu iki olay çarpılırsa;\n",
        "     c(5,1) , c( 10,1) =  SO ÇIKAR.\n",
        "    \n",
        "\n",
        "\n",
        "\n",
        "\n",
        "\n",
        "\n",
        "\n",
        "\n",
        "\n",
        "\n",
        "\n",
        "\n",
        "\n",
        "       \n"
      ],
      "metadata": {
        "id": "aZHteGjjMbIL"
      }
    },
    {
      "cell_type": "code",
      "source": [
        "from math import comb\n",
        "# Erkek bebeklere verilecek isim sayısı : 6\n",
        "erkek_isimsayısı = 6\n",
        "\n",
        "# hem kız hemde erkek bebeklere verilecek isim sayısı:5\n",
        "kızerkek_isimsayısı = 5\n",
        "\n",
        "# kız bebek için isim seçme durumu\n",
        "kız_bebek = comb(kızerkek_isimsayısı,1)\n",
        "\n",
        "#erkek bebek için verilecek toplam isim sayısı \n",
        "erkek_toplamisimler= 10\n",
        "\n",
        "# erkek bebek için isim secme durumu\n",
        "erkek_bebek =comb(10,1)\n",
        "\n",
        "#simgenin bebeklerine seçebilecegi isimler\n",
        "sonuc = (kız_bebek*erkek_bebek)\n",
        "\n",
        "\n",
        "\n",
        "\n",
        "# Sonuç\n",
        "print(\"simgenin ikizleri için sececegi isimler \",sonuc)"
      ],
      "metadata": {
        "id": "PMJhSxZHM_-R",
        "outputId": "f87ee6dd-a747-43bd-d561-5d1a2563295e",
        "colab": {
          "base_uri": "https://localhost:8080/"
        }
      },
      "execution_count": null,
      "outputs": [
        {
          "output_type": "stream",
          "name": "stdout",
          "text": [
            "simgenin ikizleri için sececegi isimler  50\n"
          ]
        }
      ]
    },
    {
      "cell_type": "code",
      "source": [],
      "metadata": {
        "id": "67CdMXf2Ow2J"
      },
      "execution_count": null,
      "outputs": []
    }
  ]
}